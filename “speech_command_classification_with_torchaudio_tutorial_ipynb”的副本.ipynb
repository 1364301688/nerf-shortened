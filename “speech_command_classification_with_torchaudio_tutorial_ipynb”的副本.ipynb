{
  "cells": [
    {
      "cell_type": "markdown",
      "metadata": {
        "id": "view-in-github",
        "colab_type": "text"
      },
      "source": [
        "<a href=\"https://colab.research.google.com/github/1364301688/nerf-shortened/blob/master/%E2%80%9Cspeech_command_classification_with_torchaudio_tutorial_ipynb%E2%80%9D%E7%9A%84%E5%89%AF%E6%9C%AC.ipynb\" target=\"_parent\"><img src=\"https://colab.research.google.com/assets/colab-badge.svg\" alt=\"Open In Colab\"/></a>"
      ]
    },
    {
      "cell_type": "code",
      "execution_count": null,
      "metadata": {
        "id": "2cTdXC-Q_9qW"
      },
      "outputs": [],
      "source": [
        "%matplotlib inline"
      ]
    },
    {
      "cell_type": "markdown",
      "metadata": {
        "id": "2IYATb97_9qZ"
      },
      "source": [
        "\n",
        "# Speech Command Classification with torchaudio\n",
        "\n",
        "This tutorial will show you how to correctly format an audio dataset and\n",
        "then train/test an audio classifier network on the dataset.\n",
        "\n",
        "Colab has GPU option available. In the menu tabs, select “Runtime” then\n",
        "“Change runtime type”. In the pop-up that follows, you can choose GPU.\n",
        "After the change, your runtime should automatically restart (which means\n",
        "information from executed cells disappear).\n",
        "\n",
        "First, let’s import the common torch packages such as\n",
        "[torchaudio](https://github.com/pytorch/audio)_ that can be installed\n",
        "by following the instructions on the website.\n"
      ]
    },
    {
      "cell_type": "code",
      "execution_count": null,
      "metadata": {
        "id": "iI5PaO8o_9qc"
      },
      "outputs": [],
      "source": [
        "# Uncomment the line corresponding to your \"runtime type\" to run in Google Colab\n",
        "\n",
        "# CPU:\n",
        "# !pip install pydub torch==1.7.0+cpu torchvision==0.8.1+cpu torchaudio==0.7.0 -f https://download.pytorch.org/whl/torch_stable.html\n",
        "\n",
        "# GPU:\n",
        "# !pip install pydub torch==1.7.0+cu101 torchvision==0.8.1+cu101 torchaudio==0.7.0 -f https://download.pytorch.org/whl/torch_stable.html\n",
        "from torch.autograd import Variable\n",
        "import torch\n",
        "import torch.nn as nn\n",
        "import torch.nn.functional as F\n",
        "import torch.optim as optim\n",
        "import torchaudio\n",
        "import sys\n",
        "import torch.nn.functional as F\n",
        "import matplotlib.pyplot as plt\n",
        "import IPython.display as ipd\n",
        "\n",
        "from tqdm import tqdm"
      ]
    },
    {
      "cell_type": "markdown",
      "metadata": {
        "id": "4ZGugBkD_9qd"
      },
      "source": [
        "Let’s check if a CUDA GPU is available and select our device. Running\n",
        "the network on a GPU will greatly decrease the training/testing runtime.\n",
        "\n",
        "\n"
      ]
    },
    {
      "cell_type": "code",
      "execution_count": null,
      "metadata": {
        "colab": {
          "base_uri": "https://localhost:8080/"
        },
        "id": "NbLf6K0Q_9qd",
        "outputId": "a249456f-c5e3-4bc7-dd5f-0dbf2ca1742b"
      },
      "outputs": [
        {
          "output_type": "stream",
          "name": "stdout",
          "text": [
            "cuda\n"
          ]
        }
      ],
      "source": [
        "device = torch.device(\"cuda\" if torch.cuda.is_available() else \"cpu\")\n",
        "print(device)"
      ]
    },
    {
      "cell_type": "markdown",
      "metadata": {
        "id": "FCcXnTE__9qe"
      },
      "source": [
        "## Importing the Dataset\n",
        "\n",
        "We use torchaudio to download and represent the dataset. Here we use\n",
        "[SpeechCommands](https://arxiv.org/abs/1804.03209)_, which is a\n",
        "datasets of 35 commands spoken by different people. The dataset\n",
        "``SPEECHCOMMANDS`` is a ``torch.utils.data.Dataset`` version of the\n",
        "dataset. In this dataset, all audio files are about 1 second long (and\n",
        "so about 16000 time frames long).\n",
        "\n",
        "The actual loading and formatting steps happen when a data point is\n",
        "being accessed, and torchaudio takes care of converting the audio files\n",
        "to tensors. If one wants to load an audio file directly instead,\n",
        "``torchaudio.load()`` can be used. It returns a tuple containing the\n",
        "newly created tensor along with the sampling frequency of the audio file\n",
        "(16kHz for SpeechCommands).\n",
        "\n",
        "Going back to the dataset, here we create a subclass that splits it into\n",
        "standard training, validation, testing subsets.\n",
        "\n",
        "\n"
      ]
    },
    {
      "cell_type": "code",
      "execution_count": null,
      "metadata": {
        "id": "kG7vlbS1_9qe"
      },
      "outputs": [],
      "source": [
        "from torchaudio.datasets import SPEECHCOMMANDS\n",
        "import os\n",
        "\n",
        "\n",
        "class SubsetSC(SPEECHCOMMANDS):\n",
        "    def __init__(self, subset: str = None):\n",
        "        super().__init__(\"./\", download=True)\n",
        "\n",
        "        def load_list(filename):\n",
        "            filepath = os.path.join(self._path, filename)\n",
        "            with open(filepath) as fileobj:\n",
        "                return [os.path.normpath(os.path.join(self._path, line.strip())) for line in fileobj]\n",
        "\n",
        "        if subset == \"validation\":\n",
        "            self._walker = load_list(\"validation_list.txt\")\n",
        "        elif subset == \"testing\":\n",
        "            self._walker = load_list(\"testing_list.txt\")\n",
        "        elif subset == \"training\":\n",
        "            excludes = load_list(\"validation_list.txt\") + load_list(\"testing_list.txt\")\n",
        "            excludes = set(excludes)\n",
        "            self._walker = [w for w in self._walker if w not in excludes]\n",
        "\n",
        "\n",
        "# Create training and testing split of the data. We do not use validation in this tutorial.\n",
        "train_set = SubsetSC(\"training\")\n",
        "test_set = SubsetSC(\"testing\")\n",
        "\n",
        "waveform, sample_rate, label, speaker_id, utterance_number = train_set[0]"
      ]
    },
    {
      "cell_type": "markdown",
      "metadata": {
        "id": "guVYAgtZ_9qf"
      },
      "source": [
        "A data point in the SPEECHCOMMANDS dataset is a tuple made of a waveform\n",
        "(the audio signal), the sample rate, the utterance (label), the ID of\n",
        "the speaker, the number of the utterance.\n",
        "\n",
        "\n"
      ]
    },
    {
      "cell_type": "markdown",
      "metadata": {
        "id": "ggGbPQn5_9qg"
      },
      "source": [
        "Let’s find the list of labels available in the dataset.\n",
        "\n",
        "\n"
      ]
    },
    {
      "cell_type": "code",
      "execution_count": null,
      "metadata": {
        "colab": {
          "base_uri": "https://localhost:8080/"
        },
        "id": "ZonOTzn-_9qg",
        "outputId": "80f255d0-2be5-4378-9965-61e93d4e7b14"
      },
      "outputs": [
        {
          "output_type": "execute_result",
          "data": {
            "text/plain": [
              "['backward',\n",
              " 'bed',\n",
              " 'bird',\n",
              " 'cat',\n",
              " 'dog',\n",
              " 'down',\n",
              " 'eight',\n",
              " 'five',\n",
              " 'follow',\n",
              " 'forward',\n",
              " 'four',\n",
              " 'go',\n",
              " 'happy',\n",
              " 'house',\n",
              " 'learn',\n",
              " 'left',\n",
              " 'marvin',\n",
              " 'nine',\n",
              " 'no',\n",
              " 'off',\n",
              " 'on',\n",
              " 'one',\n",
              " 'right',\n",
              " 'seven',\n",
              " 'sheila',\n",
              " 'six',\n",
              " 'stop',\n",
              " 'three',\n",
              " 'tree',\n",
              " 'two',\n",
              " 'up',\n",
              " 'visual',\n",
              " 'wow',\n",
              " 'yes',\n",
              " 'zero']"
            ]
          },
          "metadata": {},
          "execution_count": 6
        }
      ],
      "source": [
        "labels = sorted(list(set(datapoint[2] for datapoint in train_set)))\n",
        "labels"
      ]
    },
    {
      "cell_type": "markdown",
      "metadata": {
        "id": "pkzBwEF__9qh"
      },
      "source": [
        "The 35 audio labels are commands that are said by users. The first few\n",
        "files are people saying “marvin”.\n",
        "\n",
        "\n"
      ]
    },
    {
      "cell_type": "code",
      "execution_count": null,
      "metadata": {
        "colab": {
          "base_uri": "https://localhost:8080/",
          "height": 167
        },
        "id": "SZ16VjYU_9qh",
        "outputId": "ca1ac148-a5ef-42b3-9f5a-a60da9247c60"
      },
      "outputs": [
        {
          "data": {
            "text/html": [
              "\n",
              "                <audio  controls=\"controls\" >\n",
              "                    <source src=\"data:audio/wav;base64,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\" type=\"audio/wav\" />\n",
              "                    Your browser does not support the audio element.\n",
              "                </audio>\n",
              "              "
            ],
            "text/plain": [
              "<IPython.lib.display.Audio object>"
            ]
          },
          "metadata": {},
          "output_type": "display_data"
        },
        {
          "name": "stdout",
          "output_type": "stream",
          "text": [
            "(tensor([[-3.0518e-05, -3.0518e-05, -6.1035e-05,  ..., -9.1553e-05,\n",
            "         -9.1553e-05, -9.1553e-05]]), 16000, 'down', 'a97017df', 0)\n"
          ]
        },
        {
          "data": {
            "text/html": [
              "\n",
              "                <audio  controls=\"controls\" >\n",
              "                    <source src=\"data:audio/wav;base64,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\" type=\"audio/wav\" />\n",
              "                    Your browser does not support the audio element.\n",
              "                </audio>\n",
              "              "
            ],
            "text/plain": [
              "<IPython.lib.display.Audio object>"
            ]
          },
          "metadata": {},
          "output_type": "display_data"
        }
      ],
      "source": [
        "waveform_first, *_ = train_set[0]\n",
        "display(ipd.Audio(waveform_first.numpy(), rate=sample_rate))\n",
        "\n",
        "waveform_second, *_ = train_set[1]\n",
        "print(train_set[10000])\n",
        "display(ipd.Audio(waveform_second.numpy(), rate=sample_rate))"
      ]
    },
    {
      "cell_type": "markdown",
      "metadata": {
        "id": "pe1zWB8o_9qh"
      },
      "source": [
        "The last file is someone saying “visual”.\n",
        "\n",
        "\n"
      ]
    },
    {
      "cell_type": "code",
      "execution_count": null,
      "metadata": {
        "colab": {
          "base_uri": "https://localhost:8080/",
          "height": 75
        },
        "id": "bB_2sRJk_9qi",
        "outputId": "5ac79864-26b1-47fe-83ac-9a7eb1290cc2"
      },
      "outputs": [
        {
          "data": {
            "text/html": [
              "\n",
              "                <audio  controls=\"controls\" >\n",
              "                    <source src=\"data:audio/wav;base64,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\" type=\"audio/wav\" />\n",
              "                    Your browser does not support the audio element.\n",
              "                </audio>\n",
              "              "
            ],
            "text/plain": [
              "<IPython.lib.display.Audio object>"
            ]
          },
          "execution_count": 21,
          "metadata": {},
          "output_type": "execute_result"
        }
      ],
      "source": [
        "waveform_last, *_ = train_set[10000]\n",
        "ipd.Audio(waveform_last.numpy(), rate=sample_rate)"
      ]
    },
    {
      "cell_type": "markdown",
      "metadata": {
        "id": "kbbWT-GG_9qi"
      },
      "source": [
        "## Formatting the Data\n",
        "\n",
        "This is a good place to apply transformations to the data. For the\n",
        "waveform, we downsample the audio for faster processing without losing\n",
        "too much of the classification power.\n",
        "\n",
        "We don’t need to apply other transformations here. It is common for some\n",
        "datasets though to have to reduce the number of channels (say from\n",
        "stereo to mono) by either taking the mean along the channel dimension,\n",
        "or simply keeping only one of the channels. Since SpeechCommands uses a\n",
        "single channel for audio, this is not needed here.\n",
        "\n",
        "\n"
      ]
    },
    {
      "cell_type": "code",
      "execution_count": null,
      "metadata": {
        "colab": {
          "base_uri": "https://localhost:8080/",
          "height": 75
        },
        "id": "Rbl4QDR7_9qi",
        "outputId": "8bf5ead0-6b1c-438c-aa99-5b42b3057a31"
      },
      "outputs": [
        {
          "output_type": "execute_result",
          "data": {
            "text/plain": [
              "<IPython.lib.display.Audio object>"
            ],
            "text/html": [
              "\n",
              "                <audio  controls=\"controls\" >\n",
              "                    <source src=\"data:audio/wav;base64,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\" type=\"audio/wav\" />\n",
              "                    Your browser does not support the audio element.\n",
              "                </audio>\n",
              "              "
            ]
          },
          "metadata": {},
          "execution_count": 7
        }
      ],
      "source": [
        "new_sample_rate = 8000\n",
        "transform = torchaudio.transforms.Resample(orig_freq=sample_rate, new_freq=new_sample_rate)\n",
        "transformed = transform(waveform)\n",
        "ipd.Audio(transformed.numpy(), rate=new_sample_rate)"
      ]
    },
    {
      "cell_type": "markdown",
      "metadata": {
        "id": "vAevfgOB_9qi"
      },
      "source": [
        "We are encoding each word using its index in the list of labels.\n",
        "\n",
        "\n"
      ]
    },
    {
      "cell_type": "code",
      "execution_count": null,
      "metadata": {
        "colab": {
          "base_uri": "https://localhost:8080/"
        },
        "id": "E3BmacuM_9qj",
        "outputId": "0e2ad018-a896-46be-953e-435066b2b8a7"
      },
      "outputs": [
        {
          "output_type": "stream",
          "name": "stdout",
          "text": [
            "yes --> tensor(33) --> yes\n"
          ]
        }
      ],
      "source": [
        "def label_to_index(word):\n",
        "    # Return the position of the word in labels\n",
        "    return torch.tensor(labels.index(word))\n",
        "\n",
        "\n",
        "def index_to_label(index):\n",
        "    # Return the word corresponding to the index in labels\n",
        "    # This is the inverse of label_to_index\n",
        "    return labels[index]\n",
        "\n",
        "\n",
        "word_start = \"yes\"\n",
        "index = label_to_index(word_start)\n",
        "word_recovered = index_to_label(index)\n",
        "\n",
        "print(word_start, \"-->\", index, \"-->\", word_recovered)"
      ]
    },
    {
      "cell_type": "markdown",
      "metadata": {
        "id": "aUMc4Ew0_9qj"
      },
      "source": [
        "To turn a list of data point made of audio recordings and utterances\n",
        "into two batched tensors for the model, we implement a collate function\n",
        "which is used by the PyTorch DataLoader that allows us to iterate over a\n",
        "dataset by batches. Please see [the\n",
        "documentation](https://pytorch.org/docs/stable/data.html#working-with-collate-fn)_\n",
        "for more information about working with a collate function.\n",
        "\n",
        "In the collate function, we also apply the resampling, and the text\n",
        "encoding.\n",
        "\n",
        "\n"
      ]
    },
    {
      "cell_type": "code",
      "execution_count": null,
      "metadata": {
        "id": "q3-L5xH6_9qj"
      },
      "outputs": [],
      "source": [
        "def pad_sequence(batch):\n",
        "    # Make all tensor in a batch the same length by padding with zeros\n",
        "    batch = [item.t() for item in batch]\n",
        "    batch = torch.nn.utils.rnn.pad_sequence(batch, batch_first=True, padding_value=0.)\n",
        "    return batch.permute(0, 2, 1)\n",
        "\n",
        "\n",
        "def collate_fn(batch):\n",
        "\n",
        "    # A data tuple has the form:\n",
        "    # waveform, sample_rate, label, speaker_id, utterance_number\n",
        "\n",
        "    tensors, targets = [], []\n",
        "\n",
        "    # Gather in lists, and encode labels as indices\n",
        "    for waveform, _, label, *_ in batch:\n",
        "        tensors += [waveform]\n",
        "        targets += [label_to_index(label)]\n",
        "\n",
        "    # Group the list of tensors into a batched tensor\n",
        "    tensors = pad_sequence(tensors)\n",
        "    targets = torch.stack(targets)\n",
        "\n",
        "    return tensors, targets\n",
        "\n",
        "\n",
        "batch_size = 256\n",
        "\n",
        "if device == \"cuda\":\n",
        "    num_workers = 1\n",
        "    pin_memory = True\n",
        "else:\n",
        "    num_workers = 0\n",
        "    pin_memory = False\n",
        "\n",
        "train_loader = torch.utils.data.DataLoader(\n",
        "    train_set,\n",
        "    batch_size=batch_size,\n",
        "    shuffle=True,\n",
        "    collate_fn=collate_fn,\n",
        "    num_workers=num_workers,\n",
        "    pin_memory=pin_memory,\n",
        ")\n",
        "test_loader = torch.utils.data.DataLoader(\n",
        "    test_set,\n",
        "    batch_size=batch_size,\n",
        "    shuffle=False,\n",
        "    drop_last=False,\n",
        "    collate_fn=collate_fn,\n",
        "    num_workers=num_workers,\n",
        "    pin_memory=pin_memory,\n",
        ")"
      ]
    },
    {
      "cell_type": "code",
      "execution_count": null,
      "metadata": {
        "id": "ZcR4-ulqkb9S"
      },
      "outputs": [],
      "source": []
    },
    {
      "cell_type": "markdown",
      "metadata": {
        "id": "5lcJtG0M_9qk"
      },
      "source": [
        "## Define the Network\n",
        "\n",
        "For this tutorial we will use a convolutional neural network to process\n",
        "the raw audio data. Usually more advanced transforms are applied to the\n",
        "audio data, however CNNs can be used to accurately process the raw data.\n",
        "The specific architecture is modeled after the M5 network architecture\n",
        "described in [this paper](https://arxiv.org/pdf/1610.00087.pdf)_. An\n",
        "important aspect of models processing raw audio data is the receptive\n",
        "field of their first layer’s filters. Our model’s first filter is length\n",
        "80 so when processing audio sampled at 8kHz the receptive field is\n",
        "around 10ms (and at 4kHz, around 20 ms). This size is similar to speech\n",
        "processing applications that often use receptive fields ranging from\n",
        "20ms to 40ms.\n",
        "\n",
        "\n"
      ]
    },
    {
      "cell_type": "code",
      "execution_count": null,
      "metadata": {
        "colab": {
          "base_uri": "https://localhost:8080/"
        },
        "id": "CdN_eqQj_9qk",
        "outputId": "94210f98-598e-4a85-a060-1c9a03d2b789"
      },
      "outputs": [
        {
          "output_type": "stream",
          "name": "stdout",
          "text": [
            "M5(\n",
            "  (conv1): Conv1d(1, 32, kernel_size=(80,), stride=(16,))\n",
            "  (bn1): BatchNorm1d(32, eps=1e-05, momentum=0.1, affine=True, track_running_stats=True)\n",
            "  (pool1): MaxPool1d(kernel_size=4, stride=4, padding=0, dilation=1, ceil_mode=False)\n",
            "  (conv2): Conv1d(32, 32, kernel_size=(3,), stride=(1,))\n",
            "  (bn2): BatchNorm1d(32, eps=1e-05, momentum=0.1, affine=True, track_running_stats=True)\n",
            "  (pool2): MaxPool1d(kernel_size=4, stride=4, padding=0, dilation=1, ceil_mode=False)\n",
            "  (conv3): Conv1d(32, 64, kernel_size=(3,), stride=(1,))\n",
            "  (bn3): BatchNorm1d(64, eps=1e-05, momentum=0.1, affine=True, track_running_stats=True)\n",
            "  (pool3): MaxPool1d(kernel_size=4, stride=4, padding=0, dilation=1, ceil_mode=False)\n",
            "  (conv4): Conv1d(64, 64, kernel_size=(3,), stride=(1,))\n",
            "  (bn4): BatchNorm1d(64, eps=1e-05, momentum=0.1, affine=True, track_running_stats=True)\n",
            "  (pool4): MaxPool1d(kernel_size=4, stride=4, padding=0, dilation=1, ceil_mode=False)\n",
            "  (fc1): Linear(in_features=64, out_features=35, bias=True)\n",
            ")\n",
            "Number of parameters: 26915\n"
          ]
        }
      ],
      "source": [
        "class M5(nn.Module):\n",
        "    def __init__(self, n_input=1, n_output=35, stride=16, n_channel=32):\n",
        "        super().__init__()\n",
        "        self.conv1 = nn.Conv1d(n_input, n_channel, kernel_size=80, stride=stride)\n",
        "        self.bn1 = nn.BatchNorm1d(n_channel)\n",
        "        self.pool1 = nn.MaxPool1d(4)\n",
        "        self.conv2 = nn.Conv1d(n_channel, n_channel, kernel_size=3)\n",
        "        self.bn2 = nn.BatchNorm1d(n_channel)\n",
        "        self.pool2 = nn.MaxPool1d(4)\n",
        "        self.conv3 = nn.Conv1d(n_channel, 2 * n_channel, kernel_size=3)\n",
        "        self.bn3 = nn.BatchNorm1d(2 * n_channel)\n",
        "        self.pool3 = nn.MaxPool1d(4)\n",
        "        self.conv4 = nn.Conv1d(2 * n_channel, 2 * n_channel, kernel_size=3)\n",
        "        self.bn4 = nn.BatchNorm1d(2 * n_channel)\n",
        "        self.pool4 = nn.MaxPool1d(4)\n",
        "        self.fc1 = nn.Linear(2 * n_channel, n_output)\n",
        "\n",
        "    def forward(self, x):\n",
        "        x = self.conv1(x)\n",
        "        x = F.relu(self.bn1(x))\n",
        "        x = self.pool1(x)\n",
        "        x = self.conv2(x)\n",
        "        x = F.relu(self.bn2(x))\n",
        "        x = self.pool2(x)\n",
        "        x = self.conv3(x)\n",
        "        x = F.relu(self.bn3(x))\n",
        "        x = self.pool3(x)\n",
        "        x = self.conv4(x)\n",
        "        x = F.relu(self.bn4(x))\n",
        "        x = self.pool4(x)\n",
        "        x = F.avg_pool1d(x, x.shape[-1])\n",
        "        x = x.permute(0, 2, 1)\n",
        "        x = self.fc1(x)\n",
        "        return F.log_softmax(x, dim=2)\n",
        "\n",
        "\n",
        "model = M5(n_input=transformed.shape[0], n_output=len(labels))\n",
        "model.to(device)\n",
        "print(model)\n",
        "\n",
        "\n",
        "def count_parameters(model):\n",
        "    return sum(p.numel() for p in model.parameters() if p.requires_grad)\n",
        "\n",
        "\n",
        "n = count_parameters(model)\n",
        "print(\"Number of parameters: %s\" % n)"
      ]
    },
    {
      "cell_type": "markdown",
      "metadata": {
        "id": "ocLQjSDN_9qk"
      },
      "source": [
        "We will use the same optimization technique used in the paper, an Adam\n",
        "optimizer with weight decay set to 0.0001. At first, we will train with\n",
        "a learning rate of 0.01, but we will use a ``scheduler`` to decrease it\n",
        "to 0.001 during training after 20 epochs.\n",
        "\n",
        "\n"
      ]
    },
    {
      "cell_type": "code",
      "execution_count": null,
      "metadata": {
        "id": "J4n9XqYd_9qk"
      },
      "outputs": [],
      "source": [
        "optimizer = optim.Adam(model.parameters(), lr=0.01, weight_decay=0.0001)\n",
        "scheduler = optim.lr_scheduler.StepLR(optimizer, step_size=20, gamma=0.1)  # reduce the learning after 20 epochs by a factor of 10"
      ]
    },
    {
      "cell_type": "markdown",
      "metadata": {
        "id": "b3b4iprY_9ql"
      },
      "source": [
        "## Training and Testing the Network\n",
        "\n",
        "Now let’s define a training function that will feed our training data\n",
        "into the model and perform the backward pass and optimization steps. For\n",
        "training, the loss we will use is the negative log-likelihood. The\n",
        "network will then be tested after each epoch to see how the accuracy\n",
        "varies during the training.\n",
        "\n",
        "\n"
      ]
    },
    {
      "cell_type": "code",
      "execution_count": null,
      "metadata": {
        "id": "pF3fVs7b_9ql",
        "colab": {
          "base_uri": "https://localhost:8080/"
        },
        "outputId": "8f92db9b-2cdd-4554-f457-6e46b1086b28"
      },
      "outputs": [
        {
          "output_type": "stream",
          "name": "stdout",
          "text": [
            "backward\n",
            "tensor([[[-4.8494, -6.4892, -4.9404, -6.6039, -3.6471, -5.0406, -5.8990,\n",
            "          -7.1665, -3.9203, -2.9579, -1.7333, -1.5943, -5.6529, -4.7608,\n",
            "          -4.9054, -5.8020, -5.2876, -5.9774, -1.8142, -3.5256, -5.1383,\n",
            "          -4.3289, -5.7482, -6.4241, -3.3469, -7.4006, -4.7994, -5.0468,\n",
            "          -5.8360, -2.3231, -4.5911, -3.8574, -4.2170, -5.8291, -3.0379]]],\n",
            "       device='cuda:0', grad_fn=<LogSoftmaxBackward0>)\n",
            "data : tensor([[-0.0658, -0.0709, -0.0753,  ..., -0.0700, -0.0731, -0.0704]],\n",
            "       device='cuda:0')\n",
            "<built-in method size of Tensor object at 0x7f6c49664f90>\n",
            "grad is tensor([[ 0.0334, -0.0770, -0.2062,  ...,  0.0000,  0.0000,  0.0000]],\n",
            "       device='cuda:0')\n",
            "tensor([[-0.2658,  0.1291,  0.1247,  ..., -0.0700, -0.0731, -0.0704]],\n",
            "       device='cuda:0', grad_fn=<SubBackward0>)\n"
          ]
        }
      ],
      "source": [
        "tense=[0\t,\n",
        "1\t,\n",
        "2\t,\n",
        "3\t,\n",
        "4\t,\n",
        "5\t,\n",
        "6\t,\n",
        "7\t,\n",
        "8\t,\n",
        "9\t,\n",
        "10\t,\n",
        "11\t,\n",
        "12\t,\n",
        "13\t,\n",
        "14\t,\n",
        "15\t,\n",
        "16\t,\n",
        "17\t,\n",
        "18\t,\n",
        "19\t,\n",
        "20\t,\n",
        "21\t,\n",
        "22\t,\n",
        "23\t,\n",
        "24\t,\n",
        "25\t,\n",
        "26\t,\n",
        "27\t,\n",
        "28\t,\n",
        "29\t,\n",
        "30\t,\n",
        "31\t,\n",
        "32\t,\n",
        "33\t,\n",
        "34\t\n",
        " ]\n",
        "tense=torch.tensor(tense,dtype=torch.float)\n",
        "tense=tense.to(device)\n",
        "def attack(data, target, targeted=False):\n",
        "        print(target)\n",
        "        target = label_to_index(target)\n",
        "        target= target.to(device)\n",
        "        # apply transform and model on whole batch directly on device\n",
        "        data = data.to(device)\n",
        "        # data = transform(data)\n",
        "        data_v=Variable(data,requires_grad=True)\n",
        "        output = model(data_v.unsqueeze(0)) \n",
        "        print(output)\n",
        "        print(\"data :\",data)\n",
        "        print(target.size)\n",
        "        if targeted:\n",
        "          loss_ct = F.cross_entropy(output.squeeze(), tense)\n",
        "        else:\n",
        "          loss_ct = -F.cross_entropy(output.squeeze(), tense)\n",
        "        # if data_v.grad is not None:\n",
        "        #   data_v.grad.data.fill_(0)\n",
        "        loss_ct.backward()\n",
        "        data_v.grad=torch.reshape(data_v.grad,(1,16000))\n",
        "        print(\"grad is\",data_v.grad)\n",
        "        #print(data_v.grad)\n",
        "        data_v.grad.sign_()\n",
        "        # torch.reshape()\n",
        "        data_v = data_v - 0.2*data_v.grad\n",
        "        # print training stats\n",
        "        return data_v\n",
        "d=attack(waveform, label, targeted=True)\n",
        "print(d)"
      ]
    },
    {
      "cell_type": "code",
      "execution_count": null,
      "metadata": {
        "id": "YEpIhGL88wpO"
      },
      "outputs": [],
      "source": [
        "def train(model, epoch, log_interval):\n",
        "    model.train()\n",
        "    for batch_idx, (data, target) in enumerate(train_loader):\n",
        "\n",
        "        # data = data.to(device)\n",
        "        # target = target.to(device)\n",
        "\n",
        "        # apply transform and model on whole batch directly on device\n",
        "        data = transform(data)\n",
        "        output = model(data)\n",
        "\n",
        "        # negative log-likelihood for a tensor of size (batch x 1 x n_output)\n",
        "        loss = F.nll_loss(output.squeeze(), target)\n",
        "\n",
        "        optimizer.zero_grad()\n",
        "        loss.backward()\n",
        "        optimizer.step()\n",
        "\n",
        "        # print training stats\n",
        "        if batch_idx % log_interval == 0:\n",
        "            print(f\"Train Epoch: {epoch} [{batch_idx * len(data)}/{len(train_loader.dataset)} ({100. * batch_idx / len(train_loader):.0f}%)]\\tLoss: {loss.item():.6f}\")\n",
        "\n",
        "        # update progress bar\n",
        "        pbar.update(pbar_update)\n",
        "        # record loss\n",
        "        losses.append(loss.item())"
      ]
    },
    {
      "cell_type": "code",
      "execution_count": null,
      "metadata": {
        "colab": {
          "base_uri": "https://localhost:8080/",
          "height": 75
        },
        "id": "1hjImZ8Eo7yf",
        "outputId": "c9c193d8-a7d9-4382-b81c-626f588c535c"
      },
      "outputs": [
        {
          "output_type": "execute_result",
          "data": {
            "text/plain": [
              "<IPython.lib.display.Audio object>"
            ],
            "text/html": [
              "\n",
              "                <audio  controls=\"controls\" >\n",
              "                    <source src=\"data:audio/wav;base64,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\" type=\"audio/wav\" />\n",
              "                    Your browser does not support the audio element.\n",
              "                </audio>\n",
              "              "
            ]
          },
          "metadata": {},
          "execution_count": 14
        }
      ],
      "source": [
        "def predict(tensor):\n",
        "    # Use the model to predict the label of the waveform\n",
        "    tensor = tensor.to(device)\n",
        "    tensor = transform(tensor)\n",
        "    tensor = model(tensor.unsqueeze(0))\n",
        "    tensor = get_likely_index(tensor)\n",
        "    tensor = index_to_label(tensor.squeeze())\n",
        "    return tensor\n",
        "\n",
        "\n",
        "waveform, sample_rate, utterance, *_ = train_set[-1]\n",
        "ipd.Audio(waveform.numpy(), rate=sample_rate)\n"
      ]
    },
    {
      "cell_type": "code",
      "execution_count": null,
      "metadata": {
        "id": "bN5q9jS_IqGz"
      },
      "outputs": [],
      "source": [
        "def attack(data ,label,targeted=False):\n",
        "  data = data.to(device)\n",
        "  # label = label.to(device)\n",
        "  data_v=Variable(data,requires_grad=True)\n",
        "  output = model(data_v)\n",
        "  # negative log-likelihood for a tensor of size (batch x 1 x n_output)\n",
        "  if targeted:\n",
        "    loss = F.nll_loss(output.squeeze(), label)\n",
        "  else:\n",
        "    loss = -F.nll_loss(output.squeeze(), label)\n",
        "  if data_v.grad is not None:\n",
        "    data_v.grad.data.fill_(0)\n",
        "  loss.backward()\n",
        "  data_v.grad.sign_()\n",
        "  data_v = data_v - 0.1*data_v.grad\n",
        "  return data_v"
      ]
    },
    {
      "cell_type": "markdown",
      "metadata": {
        "id": "Z1nNbSPT_9ql"
      },
      "source": [
        "Now that we have a training function, we need to make one for testing\n",
        "the networks accuracy. We will set the model to ``eval()`` mode and then\n",
        "run inference on the test dataset. Calling ``eval()`` sets the training\n",
        "variable in all modules in the network to false. Certain layers like\n",
        "batch normalization and dropout layers behave differently during\n",
        "training so this step is crucial for getting correct results.\n",
        "\n",
        "\n"
      ]
    },
    {
      "cell_type": "code",
      "execution_count": null,
      "metadata": {
        "id": "8URdYacW_9ql"
      },
      "outputs": [],
      "source": [
        "def number_of_correct(pred, target):\n",
        "    # count number of correct predictions\n",
        "    return pred.squeeze().eq(target).sum().item()\n",
        "\n",
        "\n",
        "def get_likely_index(tensor):\n",
        "    # find most likely label index for each element in the batch\n",
        "    return tensor.argmax(dim=-1)\n",
        "\n",
        "\n",
        "def test(model, epoch):\n",
        "    model.eval()\n",
        "    correct = 0\n",
        "    for data, target in test_loader:\n",
        "\n",
        "        data = data.to(device)\n",
        "        target = target.to(device)\n",
        "\n",
        "        # apply transform and model on whole batch directly on device\n",
        "        data = transform(data)\n",
        "        output = model(data)\n",
        "\n",
        "        pred = get_likely_index(output)\n",
        "        correct += number_of_correct(pred, target)\n",
        "\n",
        "        # update progress bar\n",
        "        pbar.update(pbar_update)\n",
        "\n",
        "    print(f\"\\nTest Epoch: {epoch}\\tAccuracy: {correct}/{len(test_loader.dataset)} ({100. * correct / len(test_loader.dataset):.0f}%)\\n\")"
      ]
    },
    {
      "cell_type": "markdown",
      "metadata": {
        "id": "JbSPWAAN_9ql"
      },
      "source": [
        "Finally, we can train and test the network. We will train the network\n",
        "for ten epochs then reduce the learn rate and train for ten more epochs.\n",
        "The network will be tested after each epoch to see how the accuracy\n",
        "varies during the training.\n",
        "\n",
        "\n"
      ]
    },
    {
      "cell_type": "code",
      "execution_count": null,
      "metadata": {
        "colab": {
          "base_uri": "https://localhost:8080/"
        },
        "id": "BRjNo-k-_9qm",
        "outputId": "22542172-255c-4161-fe95-b22c6f863331"
      },
      "outputs": [
        {
          "output_type": "stream",
          "name": "stderr",
          "text": [
            "  0%|          | 0.0026666666666666666/2 [00:07<1:27:25, 2626.05s/it]"
          ]
        },
        {
          "output_type": "stream",
          "name": "stdout",
          "text": [
            "Train Epoch: 1 [0/84843 (0%)]\tLoss: 3.849948\n"
          ]
        },
        {
          "output_type": "stream",
          "name": "stderr",
          "text": [
            "  3%|▎         | 0.05866666666666665/2 [00:09<01:33, 48.22s/it]"
          ]
        },
        {
          "output_type": "stream",
          "name": "stdout",
          "text": [
            "Train Epoch: 1 [5120/84843 (6%)]\tLoss: 3.144230\n"
          ]
        },
        {
          "output_type": "stream",
          "name": "stderr",
          "text": [
            "  6%|▌         | 0.11199999999999995/2 [00:12<01:33, 49.32s/it]"
          ]
        },
        {
          "output_type": "stream",
          "name": "stdout",
          "text": [
            "Train Epoch: 1 [10240/84843 (12%)]\tLoss: 2.713018\n"
          ]
        },
        {
          "output_type": "stream",
          "name": "stderr",
          "text": [
            "  8%|▊         | 0.16533333333333344/2 [00:14<01:29, 48.91s/it]"
          ]
        },
        {
          "output_type": "stream",
          "name": "stdout",
          "text": [
            "Train Epoch: 1 [15360/84843 (18%)]\tLoss: 2.254737\n"
          ]
        },
        {
          "output_type": "stream",
          "name": "stderr",
          "text": [
            " 11%|█         | 0.218666666666667/2 [00:17<01:26, 48.28s/it]  "
          ]
        },
        {
          "output_type": "stream",
          "name": "stdout",
          "text": [
            "Train Epoch: 1 [20480/84843 (24%)]\tLoss: 1.990943\n"
          ]
        },
        {
          "output_type": "stream",
          "name": "stderr",
          "text": [
            " 14%|█▎        | 0.27200000000000035/2 [00:20<01:23, 48.37s/it]"
          ]
        },
        {
          "output_type": "stream",
          "name": "stdout",
          "text": [
            "Train Epoch: 1 [25600/84843 (30%)]\tLoss: 1.905198\n"
          ]
        },
        {
          "output_type": "stream",
          "name": "stderr",
          "text": [
            " 16%|█▋        | 0.32533333333333336/2 [00:22<01:23, 49.77s/it]"
          ]
        },
        {
          "output_type": "stream",
          "name": "stdout",
          "text": [
            "Train Epoch: 1 [30720/84843 (36%)]\tLoss: 1.658820\n"
          ]
        },
        {
          "output_type": "stream",
          "name": "stderr",
          "text": [
            " 19%|█▉        | 0.3786666666666664/2 [00:25<01:19, 48.91s/it]"
          ]
        },
        {
          "output_type": "stream",
          "name": "stdout",
          "text": [
            "Train Epoch: 1 [35840/84843 (42%)]\tLoss: 1.751125\n"
          ]
        },
        {
          "output_type": "stream",
          "name": "stderr",
          "text": [
            " 22%|██▏       | 0.4319999999999994/2 [00:28<01:15, 48.14s/it] "
          ]
        },
        {
          "output_type": "stream",
          "name": "stdout",
          "text": [
            "Train Epoch: 1 [40960/84843 (48%)]\tLoss: 1.607614\n"
          ]
        },
        {
          "output_type": "stream",
          "name": "stderr",
          "text": [
            " 24%|██▍       | 0.4853333333333324/2 [00:30<01:18, 51.61s/it] "
          ]
        },
        {
          "output_type": "stream",
          "name": "stdout",
          "text": [
            "Train Epoch: 1 [46080/84843 (54%)]\tLoss: 1.646129\n"
          ]
        },
        {
          "output_type": "stream",
          "name": "stderr",
          "text": [
            " 27%|██▋       | 0.5386666666666662/2 [00:33<01:14, 50.74s/it]"
          ]
        },
        {
          "output_type": "stream",
          "name": "stdout",
          "text": [
            "Train Epoch: 1 [51200/84843 (60%)]\tLoss: 1.470447\n"
          ]
        },
        {
          "output_type": "stream",
          "name": "stderr",
          "text": [
            " 30%|██▉       | 0.5920000000000003/2 [00:36<01:14, 53.07s/it]"
          ]
        },
        {
          "output_type": "stream",
          "name": "stdout",
          "text": [
            "Train Epoch: 1 [56320/84843 (66%)]\tLoss: 1.598201\n"
          ]
        },
        {
          "output_type": "stream",
          "name": "stderr",
          "text": [
            " 32%|███▏      | 0.6453333333333344/2 [00:38<01:14, 55.15s/it]"
          ]
        },
        {
          "output_type": "stream",
          "name": "stdout",
          "text": [
            "Train Epoch: 1 [61440/84843 (72%)]\tLoss: 1.341696\n"
          ]
        },
        {
          "output_type": "stream",
          "name": "stderr",
          "text": [
            " 35%|███▍      | 0.6986666666666685/2 [00:41<01:11, 54.94s/it]"
          ]
        },
        {
          "output_type": "stream",
          "name": "stdout",
          "text": [
            "Train Epoch: 1 [66560/84843 (78%)]\tLoss: 1.389240\n"
          ]
        },
        {
          "output_type": "stream",
          "name": "stderr",
          "text": [
            " 38%|███▊      | 0.7520000000000027/2 [00:44<01:06, 53.10s/it]"
          ]
        },
        {
          "output_type": "stream",
          "name": "stdout",
          "text": [
            "Train Epoch: 1 [71680/84843 (84%)]\tLoss: 1.204327\n"
          ]
        },
        {
          "output_type": "stream",
          "name": "stderr",
          "text": [
            " 40%|████      | 0.8053333333333368/2 [00:47<01:02, 52.50s/it]"
          ]
        },
        {
          "output_type": "stream",
          "name": "stdout",
          "text": [
            "Train Epoch: 1 [76800/84843 (90%)]\tLoss: 1.209458\n"
          ]
        },
        {
          "output_type": "stream",
          "name": "stderr",
          "text": [
            " 43%|████▎     | 0.8586666666666709/2 [00:50<01:02, 54.45s/it]"
          ]
        },
        {
          "output_type": "stream",
          "name": "stdout",
          "text": [
            "Train Epoch: 1 [81920/84843 (96%)]\tLoss: 1.072391\n"
          ]
        },
        {
          "output_type": "stream",
          "name": "stderr",
          "text": [
            " 50%|█████     | 1.0053333333333394/2 [00:59<00:36, 36.42s/it]"
          ]
        },
        {
          "output_type": "stream",
          "name": "stdout",
          "text": [
            "\n",
            "Test Epoch: 1\tAccuracy: 6643/11005 (60%)\n",
            "\n",
            "Train Epoch: 2 [0/84843 (0%)]\tLoss: 1.105742\n"
          ]
        },
        {
          "output_type": "stream",
          "name": "stderr",
          "text": [
            " 53%|█████▎    | 1.0586666666666713/2 [01:01<00:26, 28.07s/it]"
          ]
        },
        {
          "output_type": "stream",
          "name": "stdout",
          "text": [
            "Train Epoch: 2 [5120/84843 (6%)]\tLoss: 0.966472\n"
          ]
        },
        {
          "output_type": "stream",
          "name": "stderr",
          "text": [
            " 56%|█████▌    | 1.1120000000000032/2 [01:02<00:24, 27.95s/it]"
          ]
        },
        {
          "output_type": "stream",
          "name": "stdout",
          "text": [
            "Train Epoch: 2 [10240/84843 (12%)]\tLoss: 0.958832\n"
          ]
        },
        {
          "output_type": "stream",
          "name": "stderr",
          "text": [
            " 58%|█████▊    | 1.165333333333335/2 [01:04<00:22, 27.54s/it]"
          ]
        },
        {
          "output_type": "stream",
          "name": "stdout",
          "text": [
            "Train Epoch: 2 [15360/84843 (18%)]\tLoss: 1.084622\n"
          ]
        },
        {
          "output_type": "stream",
          "name": "stderr",
          "text": [
            " 61%|██████    | 1.218666666666667/2 [01:05<00:21, 27.65s/it] "
          ]
        },
        {
          "output_type": "stream",
          "name": "stdout",
          "text": [
            "Train Epoch: 2 [20480/84843 (24%)]\tLoss: 1.092218\n"
          ]
        },
        {
          "output_type": "stream",
          "name": "stderr",
          "text": [
            " 64%|██████▎   | 1.271999999999999/2 [01:07<00:20, 27.92s/it] "
          ]
        },
        {
          "output_type": "stream",
          "name": "stdout",
          "text": [
            "Train Epoch: 2 [25600/84843 (30%)]\tLoss: 1.056878\n"
          ]
        },
        {
          "output_type": "stream",
          "name": "stderr",
          "text": [
            " 66%|██████▋   | 1.3253333333333308/2 [01:08<00:19, 28.42s/it]"
          ]
        },
        {
          "output_type": "stream",
          "name": "stdout",
          "text": [
            "Train Epoch: 2 [30720/84843 (36%)]\tLoss: 0.932413\n"
          ]
        },
        {
          "output_type": "stream",
          "name": "stderr",
          "text": [
            " 69%|██████▉   | 1.3786666666666627/2 [01:10<00:17, 27.80s/it]"
          ]
        },
        {
          "output_type": "stream",
          "name": "stdout",
          "text": [
            "Train Epoch: 2 [35840/84843 (42%)]\tLoss: 0.872703\n"
          ]
        },
        {
          "output_type": "stream",
          "name": "stderr",
          "text": [
            " 72%|███████▏  | 1.4319999999999946/2 [01:11<00:15, 27.89s/it]"
          ]
        },
        {
          "output_type": "stream",
          "name": "stdout",
          "text": [
            "Train Epoch: 2 [40960/84843 (48%)]\tLoss: 0.978156\n"
          ]
        },
        {
          "output_type": "stream",
          "name": "stderr",
          "text": [
            " 74%|███████▍  | 1.4853333333333265/2 [01:13<00:14, 28.03s/it]"
          ]
        },
        {
          "output_type": "stream",
          "name": "stdout",
          "text": [
            "Train Epoch: 2 [46080/84843 (54%)]\tLoss: 1.085076\n"
          ]
        },
        {
          "output_type": "stream",
          "name": "stderr",
          "text": [
            " 77%|███████▋  | 1.5386666666666584/2 [01:14<00:12, 28.01s/it]"
          ]
        },
        {
          "output_type": "stream",
          "name": "stdout",
          "text": [
            "Train Epoch: 2 [51200/84843 (60%)]\tLoss: 0.835156\n"
          ]
        },
        {
          "output_type": "stream",
          "name": "stderr",
          "text": [
            " 80%|███████▉  | 1.5919999999999903/2 [01:16<00:11, 27.71s/it]"
          ]
        },
        {
          "output_type": "stream",
          "name": "stdout",
          "text": [
            "Train Epoch: 2 [56320/84843 (66%)]\tLoss: 0.975573\n"
          ]
        },
        {
          "output_type": "stream",
          "name": "stderr",
          "text": [
            " 82%|████████▏ | 1.6453333333333222/2 [01:17<00:09, 27.81s/it]"
          ]
        },
        {
          "output_type": "stream",
          "name": "stdout",
          "text": [
            "Train Epoch: 2 [61440/84843 (72%)]\tLoss: 0.891939\n"
          ]
        },
        {
          "output_type": "stream",
          "name": "stderr",
          "text": [
            " 85%|████████▍ | 1.6986666666666541/2 [01:19<00:08, 27.95s/it]"
          ]
        },
        {
          "output_type": "stream",
          "name": "stdout",
          "text": [
            "Train Epoch: 2 [66560/84843 (78%)]\tLoss: 1.117555\n"
          ]
        },
        {
          "output_type": "stream",
          "name": "stderr",
          "text": [
            " 88%|████████▊ | 1.751999999999986/2 [01:20<00:06, 27.82s/it] "
          ]
        },
        {
          "output_type": "stream",
          "name": "stdout",
          "text": [
            "Train Epoch: 2 [71680/84843 (84%)]\tLoss: 0.979695\n"
          ]
        },
        {
          "output_type": "stream",
          "name": "stderr",
          "text": [
            " 90%|█████████ | 1.805333333333318/2 [01:22<00:05, 28.39s/it] "
          ]
        },
        {
          "output_type": "stream",
          "name": "stdout",
          "text": [
            "Train Epoch: 2 [76800/84843 (90%)]\tLoss: 0.848989\n"
          ]
        },
        {
          "output_type": "stream",
          "name": "stderr",
          "text": [
            " 93%|█████████▎| 1.8586666666666498/2 [01:23<00:04, 28.44s/it]"
          ]
        },
        {
          "output_type": "stream",
          "name": "stdout",
          "text": [
            "Train Epoch: 2 [81920/84843 (96%)]\tLoss: 1.046249\n"
          ]
        },
        {
          "output_type": "stream",
          "name": "stderr",
          "text": [
            "100%|█████████▉| 1.9999999999999793/2 [01:27<00:00, 43.74s/it]"
          ]
        },
        {
          "output_type": "stream",
          "name": "stdout",
          "text": [
            "\n",
            "Test Epoch: 2\tAccuracy: 7676/11005 (70%)\n",
            "\n"
          ]
        },
        {
          "output_type": "stream",
          "name": "stderr",
          "text": [
            "\n"
          ]
        }
      ],
      "source": [
        "log_interval = 20\n",
        "n_epoch = 2\n",
        "\n",
        "pbar_update = 1 / (len(train_loader) + len(test_loader))\n",
        "losses = []\n",
        "\n",
        "# The transform needs to live on the same device as the model and the data.\n",
        "transform = transform.to(device)\n",
        "with tqdm(total=n_epoch) as pbar:\n",
        "    for epoch in range(1, n_epoch + 1):\n",
        "        train(model, epoch, log_interval)\n",
        "        test(model, epoch)\n",
        "        scheduler.step()\n",
        "\n",
        "# Let's plot the training loss versus the number of iteration.\n",
        "# plt.plot(losses);\n",
        "# plt.title(\"training loss\");"
      ]
    },
    {
      "cell_type": "markdown",
      "metadata": {
        "id": "SewpWL1m_9qm"
      },
      "source": [
        "The network should be more than 65% accurate on the test set after 2\n",
        "epochs, and 85% after 21 epochs. Let’s look at the last words in the\n",
        "train set, and see how the model did on it.\n",
        "\n",
        "\n"
      ]
    },
    {
      "cell_type": "code",
      "execution_count": null,
      "metadata": {
        "colab": {
          "base_uri": "https://localhost:8080/",
          "height": 491
        },
        "id": "vG9ucDoX_9qm",
        "outputId": "894335b2-81e8-4c31-f828-7b37fa29d96b"
      },
      "outputs": [
        {
          "output_type": "stream",
          "name": "stdout",
          "text": [
            "backward\n",
            "tensor([[[-4.8494, -6.4892, -4.9404, -6.6039, -3.6471, -5.0406, -5.8990,\n",
            "          -7.1665, -3.9203, -2.9579, -1.7333, -1.5943, -5.6529, -4.7608,\n",
            "          -4.9054, -5.8020, -5.2876, -5.9774, -1.8142, -3.5256, -5.1383,\n",
            "          -4.3289, -5.7482, -6.4241, -3.3469, -7.4006, -4.7994, -5.0468,\n",
            "          -5.8360, -2.3231, -4.5911, -3.8574, -4.2170, -5.8291, -3.0379]]],\n",
            "       device='cuda:0', grad_fn=<LogSoftmaxBackward0>)\n",
            "data : tensor([[-0.0658, -0.0709, -0.0753,  ..., -0.0700, -0.0731, -0.0704]],\n",
            "       device='cuda:0')\n",
            "<built-in method size of Tensor object at 0x7f6c49325cc0>\n",
            "grad is None tensor([[-0.2658,  0.1291,  0.1247,  ..., -0.0700, -0.0731, -0.0704]],\n",
            "       device='cuda:0', grad_fn=<SubBackward0>)\n",
            "Expected: backward. Predicted: backward.\n"
          ]
        },
        {
          "output_type": "display_data",
          "data": {
            "text/plain": [
              "<Figure size 432x288 with 1 Axes>"
            ],
            "image/png": "[encoded data removed]"
          },
          "metadata": {
            "needs_background": "light"
          }
        }
      ],
      "source": [
        "def predict(tensor):\n",
        "    # Use the model to predict the label of the waveform\n",
        "    tensor = tensor.to(device)\n",
        "    tensor = transform(tensor)\n",
        "    tensor = model(tensor.unsqueeze(0))\n",
        "    tensor = get_likely_index(tensor)\n",
        "    tensor = index_to_label(tensor.squeeze())\n",
        "    return tensor\n",
        "waveform, sample_rate, utterance, *_ = train_set[0]\n",
        "waveform_v=train1(waveform, utterance, targeted=True)\n",
        "plt.plot(waveform.t().numpy())\n",
        "waveform_v=waveform_v.cpu()\n",
        "plt.plot(waveform_v.t().detach().numpy())\n",
        "if predict(waveform_v) == utterance:\n",
        "  print(f\"Expected: {utterance}. Predicted: {predict(waveform)}.\")\n",
        "else:\n",
        "  print(f\"Expected: {utterance}. Predicted: {predict(waveform)}.\")"
      ]
    },
    {
      "cell_type": "code",
      "execution_count": null,
      "metadata": {
        "colab": {
          "base_uri": "https://localhost:8080/"
        },
        "id": "PqjfZahOMjhF",
        "outputId": "7c6c1735-b9dd-4e89-c163-b49d1642949c"
      },
      "outputs": [
        {
          "name": "stdout",
          "output_type": "stream",
          "text": [
            "torch.Size([1, 16000])\n",
            "torch.Size([1, 16000])\n",
            "torch.Size([1, 16000])\n",
            "torch.Size([1, 16000])\n",
            "torch.Size([1, 16000])\n",
            "torch.Size([1, 16000])\n",
            "torch.Size([1, 16000])\n",
            "torch.Size([1, 16000])\n",
            "torch.Size([1, 16000])\n",
            "torch.Size([1, 16000])\n",
            "torch.Size([1, 16000])\n",
            "torch.Size([1, 16000])\n",
            "torch.Size([1, 16000])\n",
            "torch.Size([1, 16000])\n",
            "torch.Size([1, 16000])\n",
            "torch.Size([1, 16000])\n",
            "torch.Size([1, 16000])\n",
            "torch.Size([1, 16000])\n",
            "torch.Size([1, 16000])\n",
            "torch.Size([1, 16000])\n",
            "torch.Size([1, 16000])\n",
            "torch.Size([1, 16000])\n",
            "torch.Size([1, 16000])\n",
            "torch.Size([1, 16000])\n",
            "torch.Size([1, 16000])\n"
          ]
        }
      ],
      "source": [
        "for i in range(0,25):\n",
        "  waveform, sample_rate, utterance, *_ = train_set[i]\n",
        "  print(waveform.shape)\n",
        "  #waveform=waveform+attack(waveform,utterance)"
      ]
    },
    {
      "cell_type": "markdown",
      "metadata": {
        "id": "eVoJ7ZpM_9qm"
      },
      "source": [
        "Let’s find an example that isn’t classified correctly, if there is one.\n",
        "\n",
        "\n"
      ]
    },
    {
      "cell_type": "code",
      "execution_count": null,
      "metadata": {
        "colab": {
          "base_uri": "https://localhost:8080/"
        },
        "id": "2LNWYlC2_9qm",
        "outputId": "eb77a51b-142a-4a27-fff8-4635b3d95e46"
      },
      "outputs": [
        {
          "output_type": "stream",
          "name": "stdout",
          "text": [
            "Data point #1. Expected: right. Predicted: seven.\n"
          ]
        }
      ],
      "source": [
        "for i, (waveform, sample_rate, utterance, *_) in enumerate(test_set):\n",
        "    output = predict(waveform)\n",
        "    if output != utterance:\n",
        "        ipd.Audio(waveform.numpy(), rate=sample_rate)\n",
        "        print(f\"Data point #{i}. Expected: {utterance}. Predicted: {output}.\")\n",
        "        break\n",
        "else:\n",
        "    print(\"All examples in this dataset were correctly classified!\")\n",
        "    print(\"In this case, let's just look at the last data point\")\n",
        "    ipd.Audio(waveform.numpy(), rate=sample_rate)\n",
        "    print(f\"Data point #{i}. Expected: {utterance}. Predicted: {output}.\")"
      ]
    },
    {
      "cell_type": "markdown",
      "metadata": {
        "id": "oGi0Afo1_9qn"
      },
      "source": [
        "Feel free to try with one of your own recordings of one of the labels!\n",
        "For example, using Colab, say “Go” while executing the cell below. This\n",
        "will record one second of audio and try to classify it.\n",
        "\n",
        "\n"
      ]
    },
    {
      "cell_type": "markdown",
      "metadata": {
        "id": "CTkFccTZ_9qn"
      },
      "source": [
        "## Conclusion\n",
        "\n",
        "In this tutorial, we used torchaudio to load a dataset and resample the\n",
        "signal. We have then defined a neural network that we trained to\n",
        "recognize a given command. There are also other data preprocessing\n",
        "methods, such as finding the mel frequency cepstral coefficients (MFCC),\n",
        "that can reduce the size of the dataset. This transform is also\n",
        "available in torchaudio as ``torchaudio.transforms.MFCC``.\n",
        "\n",
        "\n"
      ]
    }
  ],
  "metadata": {
    "accelerator": "GPU",
    "colab": {
      "provenance": [],
      "include_colab_link": true
    },
    "gpuClass": "standard",
    "kernelspec": {
      "display_name": "Python 3",
      "language": "python",
      "name": "python3"
    },
    "language_info": {
      "codemirror_mode": {
        "name": "ipython",
        "version": 3
      },
      "file_extension": ".py",
      "mimetype": "text/x-python",
      "name": "python",
      "nbconvert_exporter": "python",
      "pygments_lexer": "ipython3",
      "version": "3.10.8"
    }
  },
  "nbformat": 4,
  "nbformat_minor": 0
}